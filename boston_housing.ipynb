{
 "cells": [
  {
   "cell_type": "code",
   "execution_count": null,
   "id": "f02638b2",
   "metadata": {},
   "outputs": [
    {
     "name": "stderr",
     "output_type": "stream",
     "text": [
      "Bad pipe message: %s [b' q=0.9, image/avif, image/webp, image/apng, */*; q=0.8, application/signed-exchange; v=b3; q=0.7\\r\\nHost: loc', b'host:45257\\r\\nUser-Agent: Mozilla/5.0 (Windows NT 10.0; Win64; x64) AppleWebKit/537.36 (KHTML, lik']\n",
      "Bad pipe message: %s [b'Gecko) Chrome/138.0.0.0 Safari/537.36 OPR/122.0.0.0\\r\\nAccept-Encoding: gzip, deflate, br, zstd\\r\\nAccep']\n",
      "Bad pipe message: %s [b'Language: en-US, en; q=0.9, es; q=0.8\\r\\nReferer: https://symmetrical-fishstick-wr76g944x7rj2vqgw.github.dev/\\r\\nX-Requ', b't-ID: 2486b90c5f8cc64cdc9f58c66bd0abd6\\r\\nX-Real-IP: 10.241.0.36\\r\\nX-Forwarded-Port: 443\\r\\nX-Forwarded-S', b'eme: https\\r\\nX-Original-URI: /\\r\\nX-Scheme: https\\r\\nsec-ch-ua: \"Not)A;Brand\";v=\"8\", \"Chromium\";v=\"138\"']\n",
      "Bad pipe message: %s [b'\"Opera GX\";v=\"122\"\\r\\nsec-ch-ua-mobile: ?0\\r\\ns']\n"
     ]
    }
   ],
   "source": [
    "%matplotlib inline"
   ]
  }
 ],
 "metadata": {
  "kernelspec": {
   "display_name": "Python 3",
   "language": "python",
   "name": "python3"
  },
  "language_info": {
   "codemirror_mode": {
    "name": "ipython",
    "version": 3
   },
   "file_extension": ".py",
   "mimetype": "text/x-python",
   "name": "python",
   "nbconvert_exporter": "python",
   "pygments_lexer": "ipython3",
   "version": "3.12.1"
  }
 },
 "nbformat": 4,
 "nbformat_minor": 5
}
